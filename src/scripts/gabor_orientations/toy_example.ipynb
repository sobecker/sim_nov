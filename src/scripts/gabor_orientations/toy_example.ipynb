{
 "cells": [
  {
   "cell_type": "code",
   "execution_count": 1,
   "metadata": {},
   "outputs": [],
   "source": [
    "import numpy as np\n",
    "import matplotlib.pyplot as plt\n",
    "import os\n",
    "import sys\n",
    "sys.path.append('/Users/sbecker/Projects/RL_reward_novelty/')\n",
    "import src.models.cnov.count_nov as cnov\n",
    "import src.models.snov.kernel_nov as knov\n",
    "from src.utils.visualization import prep_cmap, prep_cmap_discrete\n",
    "\n",
    "from skimage.filters import gabor_kernel\n",
    "import src.utils.saveload as sl"
   ]
  },
  {
   "cell_type": "markdown",
   "metadata": {},
   "source": [
    "# Methods for plotting"
   ]
  },
  {
   "cell_type": "code",
   "execution_count": 2,
   "metadata": {},
   "outputs": [],
   "source": [
    "def plot_kernels(ktype,k,kw_x,kc,ksig,t,splot,sseq,space,ylim=[0,0.007],plot_stim=True,base_col='grey',anim_col='k',reduce_factor=1,dashes=[(3,1,3,1),(2,2,2,2),(1,3,1,3)],cols=[]):\n",
    "    \n",
    "    ratio = 2.4\n",
    "    lw = 3*reduce_factor\n",
    "    tl = 10*reduce_factor\n",
    "    fs = 4*reduce_factor\n",
    "\n",
    "    knum = len(kw_x)\n",
    "\n",
    "    if t>0:\n",
    "        col = anim_col #'C1' # grey\n",
    "    else:\n",
    "        col = base_col\n",
    "\n",
    "    f,ax = plt.subplots(1,1,figsize=(ratio*fs,fs))\n",
    "\n",
    "    # Plot kernels\n",
    "    ymin = 0\n",
    "    ymax = 0\n",
    "    alphs = np.array([1]*knum)\n",
    "    for i in range(knum):\n",
    "        ki = kw_x[i]*k(splot,kc[i],ksig[i])\n",
    "        ymin = np.min([ymin,np.min(ki)])\n",
    "        ymax = np.max([ymax,np.max(ki)])\n",
    "        ax.plot(splot,ki,c=col,alpha=alphs[i],lw=lw)\n",
    "        ax.fill_between(splot,ki,color=col,alpha=0.4)\n",
    "    print(f'ylim: {ymin}, {np.round(ymax,4)}')\n",
    "\n",
    "    # Plot stimulus locations\n",
    "    alphs = np.array([1]*len(sseq))\n",
    "    if len(cols)==0: \n",
    "        cols = ['C0']*len(sseq)\n",
    "    for i in range(len(sseq)):\n",
    "        if isinstance(sseq[i],np.ndarray):\n",
    "            colm = prep_cmap_discrete('Set1') \n",
    "            cols = [colm[0],colm[3],colm[1]]\n",
    "            for j in range(len(sseq[i])):\n",
    "                ax.axvline(x=sseq[i][j],c=cols[j],ls=':',dashes=dashes[i],alpha=alphs[i],lw=2*lw)\n",
    "        else:\n",
    "            ax.axvline(x=sseq[i],c=cols[i],ls='--',alpha=alphs[i],lw=2*lw)\n",
    "\n",
    "    # Format plot\n",
    "    ax.set_xlim(space)\n",
    "    ax.set_xticks([])\n",
    "    ax.set_xticklabels([])\n",
    "    # ax.set_xticks(sseq,lw=lw)\n",
    "    # ax.set_xlabel('')\n",
    "    ax.xaxis.set_tick_params(width=lw/2,length=tl)\n",
    "\n",
    "    if len(ylim)==0:\n",
    "        ylim = ax.get_ylim()\n",
    "        print(ylim)\n",
    "    else:\n",
    "        ylim = [ymin,np.round(ymax*1.1,4)]\n",
    "    ax.set_ylim(ylim)\n",
    "    ax.set_yticks([])\n",
    "    print(ylim[1])\n",
    "\n",
    "    ax.spines['top'].set_visible(False)\n",
    "    ax.spines['right'].set_visible(False)\n",
    "    ax.spines['left'].set_visible(False)\n",
    "\n",
    "    path_save = '/Users/sbecker/Projects/RL_reward_novelty/output/Figures_Paper/Fig_theory_kernels/v11'\n",
    "    name_save = f'kernel_{ktype}{\"_neutral\" if not plot_stim else \"\"}'\n",
    "\n",
    "    sl.make_long_dir(path_save)\n",
    "    plt.savefig(os.path.join(path_save,f'{name_save}.svg'),transparent=True)"
   ]
  },
  {
   "cell_type": "code",
   "execution_count": 3,
   "metadata": {},
   "outputs": [],
   "source": [
    "def plot_kernel_anim(ktype,k,kw,kc,ksig,t,splot,sseq,space,ylim=[0,0.007],plot_stim=True,base_col='grey',anim_col='k',reduce_factor=1):\n",
    "    \n",
    "    ratio = 2.4\n",
    "    lw = 3*reduce_factor\n",
    "    tl = 10*reduce_factor\n",
    "    fs = 4*reduce_factor\n",
    "\n",
    "    knum = len(kc)\n",
    "\n",
    "    cols = prep_cmap('viridis',num=len(kw)+1)\n",
    "    cols = cols[::-1]\n",
    "    cols = cols[:-1]\n",
    "\n",
    "    f,ax = plt.subplots(1,1,figsize=(ratio*fs,fs))\n",
    "\n",
    "    # Plot kernels\n",
    "    ymin = 0\n",
    "    ymax = 0\n",
    "    alphs = np.array([1]*knum)\n",
    "    lh = []; ls = []\n",
    "    for tt in range(len(t)):\n",
    "        for i in range(knum):\n",
    "            ki = kw[tt][i]*k(splot,kc[i],ksig[i])\n",
    "            ymin = np.min([ymin,np.min(ki)])\n",
    "            ymax = np.max([ymax,np.max(ki)])\n",
    "            a = ax.plot(splot,ki,c=cols[tt],alpha=alphs[i],lw=lw)\n",
    "        lh.append(a[0])\n",
    "        ls.append(f't = {t[tt]}')\n",
    "    print(f'ylim: {ymin}, {np.round(ymax,4)}')\n",
    "\n",
    "    # Plot stimulus locations\n",
    "    alphs = np.array([1]*len(sseq))\n",
    "    cols  = ['C0']*len(sseq)\n",
    "    for i in range(len(sseq)):\n",
    "        ax.axvline(x=sseq[i],c=cols[i],ls='--',alpha=alphs[i],lw=2*lw)\n",
    "\n",
    "    # Format plot\n",
    "    ax.set_xlim(space)\n",
    "    ax.set_xticks([])\n",
    "    # ax.set_xticks(sseq,lw=lw)\n",
    "    ax.set_xticklabels([])\n",
    "    ax.xaxis.set_tick_params(width=lw/2,length=tl)\n",
    "\n",
    "    if len(ylim)==0:\n",
    "        ylim = ax.get_ylim()\n",
    "        print(ylim)\n",
    "    else:\n",
    "        ylim = [ymin,np.round(ymax*1.1,4)]\n",
    "    ax.set_ylim(ylim)\n",
    "    ax.set_yticks([])\n",
    "    print(ylim[1])\n",
    "\n",
    "    ax.spines['top'].set_visible(False)\n",
    "    ax.spines['right'].set_visible(False)\n",
    "    ax.spines['left'].set_visible(False)\n",
    "\n",
    "    ax.legend(lh,ls)\n",
    "\n",
    "    path_save = '/Users/sbecker/Projects/RL_reward_novelty/output/Figures_Paper/Fig_theory_kernels/v11'\n",
    "    name_save = f'kernel-anim_{ktype}{\"_neutral\" if not plot_stim else \"\"}'\n",
    "\n",
    "    sl.make_long_dir(path_save)\n",
    "    plt.savefig(os.path.join(path_save,f'{name_save}.svg'),transparent=True)\n",
    "\n"
   ]
  },
  {
   "cell_type": "code",
   "execution_count": 4,
   "metadata": {},
   "outputs": [],
   "source": [
    "def sim_count_nov(states,eps,sseq,var='novelty'):\n",
    "    cseq = np.array([np.where(np.min(np.abs(states-sseq[i]))==np.abs(states-sseq[i]))[0][0] for i in range(len(sseq))])\n",
    "    # print(cseq)\n",
    "    # print(states[cseq])\n",
    "\n",
    "    # Initialize\n",
    "    c = cnov.init_nov(states,counts0=np.array([]))\n",
    "\n",
    "    # Update \n",
    "    nt1 = []; nt2 = []; nt3 = []; ntc = []\n",
    "    for t in range(len(sseq)):\n",
    "        _,nt = cnov.comp_nov(c,states,t,eps=eps)\n",
    "        nt1.append(nt[cseq[0]]); nt2.append(nt[cseq[1]]), nt3.append(nt[cseq[2]]); ntc.append(nt[cseq[t]])\n",
    "        c = cnov.update_nov(c,cseq[t])\n",
    "\n",
    "    return nt1,nt2,nt3,ntc"
   ]
  },
  {
   "cell_type": "code",
   "execution_count": 5,
   "metadata": {},
   "outputs": [],
   "source": [
    "def sim_kernel_nov(k,kc,ksig,knum,eps,splot,sseq,return_kw=False):\n",
    "    # Initialize\n",
    "    kw, kmat, kmat_seq, rksum, rkmat, kmumat = knov.init_nov(k,kc,ksig,x=splot,seq=sseq)\n",
    "\n",
    "    # First update\n",
    "    nt1 = []\n",
    "    nt2 = []\n",
    "    nt3 = []\n",
    "    ntc = []\n",
    "    if return_kw: \n",
    "        kwl = [kw.copy()]\n",
    "    else:\n",
    "        kwl = None\n",
    "    for t in range(len(sseq)):\n",
    "        _,_,n = knov.comp_nov(kw,kmat_seq)\n",
    "        nt1.append(n[0])\n",
    "        nt2.append(n[1])\n",
    "        nt3.append(n[2])\n",
    "        ntc.append(n[t])\n",
    "        rk = knov.update_rk_approx(kw,kmat_seq,t) \n",
    "        kw = knov.update_nov_approx(kw,t,rk,knum,eps=eps)\n",
    "        if return_kw: kwl.append(kw.copy())\n",
    "    return nt1, nt2, nt3, ntc, kwl"
   ]
  },
  {
   "cell_type": "code",
   "execution_count": 6,
   "metadata": {},
   "outputs": [],
   "source": [
    "def plot_nov_pred(nlist,cols,alphs,ls,sseq,lines=[],slabel='',reduce_factor=1,f=None,axl=[],legend=True):\n",
    "\n",
    "    ratio = 1.2\n",
    "    lw = 3*reduce_factor\n",
    "    tl = 11\n",
    "    fs = 4*reduce_factor\n",
    "    s = 70*reduce_factor\n",
    "\n",
    "    if len(lines)==0:\n",
    "        lines = ['--']*len(alphs)\n",
    "\n",
    "    if len(axl)==0:\n",
    "        f,ax = plt.subplots(1,1,figsize=(ratio*fs,fs))\n",
    "    else:\n",
    "        ax = axl[0]\n",
    "\n",
    "    lh = []\n",
    "    for i in range(len(nlist)):\n",
    "        ni = nlist[i]\n",
    "        diff = 0 if i==0 else (ni[0]-nlist[0][0])\n",
    "        ax.plot(np.arange(len(sseq)),np.array(ni)-diff,lines[i],lw=lw,c=cols[i],alpha=alphs[i])\n",
    "        a = ax.scatter(np.arange(len(sseq)),np.array(ni)-diff,s=s,marker='s',c=cols[i],alpha=alphs[i])\n",
    "        lh.append(a)\n",
    "\n",
    "    ax.spines['top'].set_visible(False)\n",
    "    ax.spines['left'].set_visible(True)\n",
    "    ax.spines['right'].set_visible(False)\n",
    "    ax.spines['bottom'].set_visible(True)\n",
    "    ax.set_xlabel('Time points',fontsize=tl)\n",
    "    ax.set_xticks(np.arange(len(sseq)))\n",
    "    ax.set_xticklabels(np.arange(len(sseq))+1,fontsize=tl)\n",
    "    ax.set_ylabel('Novelty prediction',fontsize=tl)\n",
    "    ax.set_yticks([])\n",
    "    ax.set_ylim(ax.get_ylim()+np.array([0,0.2]))\n",
    "    print(ax.get_ylim())\n",
    "    if legend:\n",
    "        ax.legend(lh,ls,fontsize=tl-2,loc='upper left',frameon=False)\n",
    "\n",
    "    if len(axl)==0:\n",
    "        path_save = '/Users/sbecker/Projects/RL_reward_novelty/output/Figures_Paper/Fig_theory_kernels/v11'\n",
    "        name_save = f'pred_state-{slabel}'\n",
    "        sl.make_long_dir(path_save)\n",
    "        plt.savefig(os.path.join(path_save,f'{name_save}.svg'),transparent=True,bbox_inches='tight')"
   ]
  },
  {
   "cell_type": "code",
   "execution_count": 7,
   "metadata": {},
   "outputs": [],
   "source": [
    "def plot_weights(kw,knum,t,line=False,rescale_factor=1):\n",
    "    ratio = 0.6\n",
    "    lw = 3*rescale_factor\n",
    "    tl = 11\n",
    "    fs = 4*rescale_factor\n",
    "\n",
    "    f,axl = plt.subplots(1,len(kw),figsize=(ratio*fs*len(kw),fs),sharey=True)\n",
    "    x = np.arange(knum)\n",
    "    for i in range(len(kw)):\n",
    "        ax = axl[i]\n",
    "        ax.bar(x,kw[i].flatten(),color='k',width=0.7)\n",
    "        if line: ax.axhline(y=1/knum,c='k',ls='--',lw=lw)\n",
    "\n",
    "        # ax.set_yticks([])\n",
    "        ax.set_ylim([0,0.4])\n",
    "        ax.set_xticks(x)\n",
    "        ax.set_xticklabels([f'$w_{j}$' for j in range(knum)],fontsize=tl)\n",
    "        # ax.xaxis.set_tick_params(width=lw)\n",
    "        # ax.yaxis.set_tick_params(width=lw)\n",
    "\n",
    "        ax.spines['top'].set_visible(False)\n",
    "        ax.spines['right'].set_visible(False)\n",
    "        ax.spines['left'].set_visible(True)\n",
    "        ax.spines['bottom'].set_visible(True)\n",
    "        # ax.spines['left'].set_linewidth(lw)\n",
    "        # ax.spines['bottom'].set_linewidth(lw)\n",
    "\n",
    "    f.tight_layout()\n",
    "\n",
    "    path_save = '/Users/sbecker/Projects/RL_reward_novelty/output/Figures_Paper/Fig_theory_kernels/v11'\n",
    "    name_save = f'weight_animation'\n",
    "\n",
    "    sl.make_long_dir(path_save)\n",
    "    plt.savefig(os.path.join(path_save,f'{name_save}.svg'),bbox_inches='tight')"
   ]
  },
  {
   "cell_type": "markdown",
   "metadata": {},
   "source": [
    "# Plot novelty representations"
   ]
  },
  {
   "cell_type": "code",
   "execution_count": 161,
   "metadata": {},
   "outputs": [],
   "source": [
    "reduce_factor = 0.34\n",
    "space = [0,180]"
   ]
  },
  {
   "cell_type": "markdown",
   "metadata": {},
   "source": [
    "## Gaussian kernels"
   ]
  },
  {
   "cell_type": "code",
   "execution_count": 162,
   "metadata": {},
   "outputs": [],
   "source": [
    "# Define Gauss kernel novelty\n",
    "space = [0,180]\n",
    "knum = 4\n",
    "eps = 3\n",
    "\n",
    "kc =np.linspace(space[0],space[1],knum+1)[:-1]\n",
    "# print(kc)\n",
    "ksig = np.array([20]*knum)\n",
    "k = lambda x,loc,scale: knov.fusebounds(knov.k_gauss,smin=space[0],smax=space[1],x=x,loc=loc,scale=scale)\n",
    "\n",
    "splot = np.linspace(space[0],space[1],1000)\n",
    "sseq = np.array([45,60,85,145]) \n",
    "cmap = prep_cmap_discrete('Set1')\n",
    "cols = [cmap[0],cmap[3],cmap[1],cmap[0]]\n",
    "\n",
    "# Initialize (just for plotting)\n",
    "kw, kmat, kmat_seq, rksum, rkmat, kmumat = knov.init_nov(k,kc,ksig,x=splot,seq=sseq)"
   ]
  },
  {
   "cell_type": "code",
   "execution_count": 163,
   "metadata": {},
   "outputs": [
    {
     "name": "stdout",
     "output_type": "stream",
     "text": [
      "ylim: 0.0, 0.005\n",
      "0.0055\n"
     ]
    },
    {
     "data": {
      "image/png": "[encoded data removed]",
      "text/plain": [
       "<Figure size 235.008x97.92 with 1 Axes>"
      ]
     },
     "metadata": {},
     "output_type": "display_data"
    }
   ],
   "source": [
    "# Plot kernels\n",
    "plot_kernels('gauss',k,kw,kc,ksig,0,splot,sseq,space,base_col='k',ylim=[0,0.006],reduce_factor=reduce_factor,cols=cols)"
   ]
  },
  {
   "cell_type": "markdown",
   "metadata": {},
   "source": [
    "## Triangle kernels"
   ]
  },
  {
   "cell_type": "code",
   "execution_count": 164,
   "metadata": {},
   "outputs": [],
   "source": [
    "# Define triangle kernel novelty\n",
    "space = [0,180]\n",
    "knum = 4\n",
    "eps = 3\n",
    "\n",
    "kc =np.linspace(space[0],space[1],knum+1)[:-1]\n",
    "# print(kc)\n",
    "ksig = np.array([45]*knum)\n",
    "k = lambda x,loc,scale: knov.fusebounds(knov.k_triangle,smin=space[0],smax=space[1],x=x,loc=loc,scale=scale)\n",
    "\n",
    "splot = np.linspace(space[0],space[1],1000)\n",
    "sseq = np.array([45,60,85,145]) \n",
    "cmap = prep_cmap_discrete('Set1')\n",
    "cols = [cmap[0],cmap[3],cmap[1],cmap[0]]\n",
    "\n",
    "# Initialize\n",
    "kw, kmat, kmat_seq, rksum, rkmat, kmumat = knov.init_nov(k,kc,ksig,x=splot,seq=sseq)"
   ]
  },
  {
   "cell_type": "code",
   "execution_count": 165,
   "metadata": {},
   "outputs": [
    {
     "name": "stdout",
     "output_type": "stream",
     "text": [
      "ylim: 0.0, 0.0056\n",
      "0.0061\n"
     ]
    },
    {
     "data": {
      "image/png": "[encoded data removed]",
      "text/plain": [
       "<Figure size 235.008x97.92 with 1 Axes>"
      ]
     },
     "metadata": {},
     "output_type": "display_data"
    }
   ],
   "source": [
    "# Plot kernels\n",
    "plot_kernels('triangle',k,kw,kc,ksig,0,splot,sseq,space,base_col='k',ylim=[0,0.006],reduce_factor=reduce_factor,cols=cols)"
   ]
  },
  {
   "cell_type": "markdown",
   "metadata": {},
   "source": [
    "## Counts (large bins) / Box kernels (large)"
   ]
  },
  {
   "cell_type": "code",
   "execution_count": 13,
   "metadata": {},
   "outputs": [],
   "source": [
    "# Define box kernel novelty (large bins)\n",
    "space = [0,180]\n",
    "knum = 4\n",
    "eps = 3\n",
    "\n",
    "kc =np.linspace(space[0],space[1],knum+1)[:-1]\n",
    "# print(kc)\n",
    "ksig = np.array([45/2]*knum)\n",
    "k = lambda x,loc,scale: knov.fusebounds(knov.k_box,smin=space[0],smax=space[1],x=x,loc=loc,scale=scale)\n",
    "\n",
    "splot = np.linspace(space[0],space[1],1000)\n",
    "sseq = np.array([45,60,85,145]) \n",
    "cmap = prep_cmap_discrete('Set1')\n",
    "cols = [cmap[0],cmap[3],cmap[1],cmap[0]]\n",
    "\n",
    "# Initialize\n",
    "kw, kmat, kmat_seq, rksum, rkmat, kmumat = knov.init_nov(k,kc,ksig,x=splot,seq=sseq)"
   ]
  },
  {
   "cell_type": "code",
   "execution_count": 14,
   "metadata": {},
   "outputs": [
    {
     "name": "stdout",
     "output_type": "stream",
     "text": [
      "ylim: 0.0, 0.0056\n",
      "0.0061\n"
     ]
    },
    {
     "data": {
      "image/png": "[encoded data removed]",
      "text/plain": [
       "<Figure size 207.36x86.4 with 1 Axes>"
      ]
     },
     "metadata": {},
     "output_type": "display_data"
    }
   ],
   "source": [
    "plot_kernels('box_large',k,kw,kc,ksig,0,splot,sseq,space,base_col='k',ylim=[0,0.003],reduce_factor=reduce_factor,cols=cols)"
   ]
  },
  {
   "cell_type": "markdown",
   "metadata": {},
   "source": [
    "## Box kernels (small)"
   ]
  },
  {
   "cell_type": "code",
   "execution_count": 15,
   "metadata": {},
   "outputs": [],
   "source": [
    "# Define box kernel novelty (small bins)\n",
    "space = [0,180]\n",
    "knum = 60\n",
    "eps = 3\n",
    "\n",
    "kc =np.linspace(space[0],space[1],knum+1)[:-1]\n",
    "# print(kc)\n",
    "ksig = np.array([3/2]*knum)\n",
    "k = lambda x,loc,scale: knov.fusebounds(knov.k_box,smin=space[0],smax=space[1],x=x,loc=loc,scale=scale)\n",
    "\n",
    "splot = np.linspace(space[0],space[1],5000)\n",
    "sseq = np.array([45,60,85,145]) \n",
    "cmap = prep_cmap_discrete('Set1')\n",
    "cols = [cmap[0],cmap[3],cmap[1],cmap[0]]\n",
    "\n",
    "# Initialize\n",
    "kw, kmat, kmat_seq, rksum, rkmat, kmumat = knov.init_nov(k,kc,ksig,x=splot,seq=sseq)"
   ]
  },
  {
   "cell_type": "code",
   "execution_count": 16,
   "metadata": {},
   "outputs": [
    {
     "name": "stdout",
     "output_type": "stream",
     "text": [
      "ylim: 0.0, 0.0056\n",
      "0.0061\n"
     ]
    },
    {
     "data": {
      "image/png": "[encoded data removed]",
      "text/plain": [
       "<Figure size 207.36x86.4 with 1 Axes>"
      ]
     },
     "metadata": {},
     "output_type": "display_data"
    }
   ],
   "source": [
    "# Plot kernels\n",
    "plot_kernels('box_small',k,kw,kc,ksig,0,splot,sseq,space,base_col='k',reduce_factor=reduce_factor,cols=cols)"
   ]
  },
  {
   "cell_type": "markdown",
   "metadata": {},
   "source": [
    "# Downside 1 of cnov: |S|=num. stimuli or |S|=num. bins?"
   ]
  },
  {
   "cell_type": "code",
   "execution_count": 28,
   "metadata": {},
   "outputs": [],
   "source": [
    "# Count-based novelty (|S| = number of stimuli)\n",
    "sseq  = np.array([45,55,145])\n",
    "\n",
    "# |S| = 3\n",
    "eps  = 3\n",
    "states = np.sort(np.unique(sseq))\n",
    "n1_css, n2_css, n3_css, nt_css = sim_count_nov(states,eps,sseq)\n",
    "\n",
    "# |S| = 2\n",
    "# sseq2  = np.array([45,45,145]*2)\n",
    "# eps  = 3\n",
    "# states2 = np.sort(np.unique(sseq2))\n",
    "# n1_css_seq2, n2_css_seq2, n3_css_seq2, nt_css_seq2 = sim_count_nov(states2,eps,sseq)\n",
    "\n",
    "# |S| = 6\n",
    "sseq2  = np.array([45,55,145]*2)\n",
    "eps  = 3\n",
    "states2 = sseq2\n",
    "n1_css_seq2, n2_css_seq2, n3_css_seq2, nt_css_seq2 = sim_count_nov(states2,eps,sseq)\n",
    "\n",
    "# |S| = 9\n",
    "sseq3  = np.array([45,55,145]*3)\n",
    "eps  = 3\n",
    "states3 = sseq3\n",
    "n1_css_seq3, n2_css_seq3, n3_css_seq3, nt_css_seq3 = sim_count_nov(states3,eps,sseq)\n",
    "\n",
    "# Count-based novelty (|S| = number of bins)\n",
    "# 180 bins\n",
    "cnum = 180\n",
    "eps  = 3\n",
    "states = np.linspace(space[0],space[1],cnum+1)[:-1]\n",
    "n1_cs, n2_cs, n3_cs, nt_cs = sim_count_nov(states,eps,sseq)"
   ]
  },
  {
   "cell_type": "code",
   "execution_count": 29,
   "metadata": {},
   "outputs": [],
   "source": [
    "# Colormap \n",
    "col_all = prep_cmap_discrete('tab20c')\n",
    "cols = [col_all[0],\n",
    "        col_all[1],\n",
    "        col_all[2],\n",
    "        col_all[4]\n",
    "        ]\n",
    "alphs = [1]*len(cols)\n",
    "reduce_factor= 0.55\n",
    "lines = []"
   ]
  },
  {
   "cell_type": "code",
   "execution_count": 30,
   "metadata": {},
   "outputs": [
    {
     "name": "stderr",
     "output_type": "stream",
     "text": [
      "*c* argument looks like a single numeric RGB or RGBA sequence, which should be avoided as value-mapping will have precedence in case its length matches with *x* & *y*.  Please use the *color* keyword-argument or provide a 2D array with a single row if you intend to specify the same RGB or RGBA value for all points.\n"
     ]
    },
    {
     "name": "stderr",
     "output_type": "stream",
     "text": [
      "*c* argument looks like a single numeric RGB or RGBA sequence, which should be avoided as value-mapping will have precedence in case its length matches with *x* & *y*.  Please use the *color* keyword-argument or provide a 2D array with a single row if you intend to specify the same RGB or RGBA value for all points.\n",
      "*c* argument looks like a single numeric RGB or RGBA sequence, which should be avoided as value-mapping will have precedence in case its length matches with *x* & *y*.  Please use the *color* keyword-argument or provide a 2D array with a single row if you intend to specify the same RGB or RGBA value for all points.\n",
      "*c* argument looks like a single numeric RGB or RGBA sequence, which should be avoided as value-mapping will have precedence in case its length matches with *x* & *y*.  Please use the *color* keyword-argument or provide a 2D array with a single row if you intend to specify the same RGB or RGBA value for all points.\n"
     ]
    },
    {
     "name": "stdout",
     "output_type": "stream",
     "text": [
      "(1.0885787538950022, 1.5093165189033684)\n"
     ]
    },
    {
     "data": {
      "image/png": "[encoded data removed]",
      "text/plain": [
       "<Figure size 190.08x158.4 with 1 Axes>"
      ]
     },
     "metadata": {
      "needs_background": "light"
     },
     "output_type": "display_data"
    }
   ],
   "source": [
    "nlist = [nt_css,       # count-based novelty (|S|=number of stimuli)\n",
    "         nt_css_seq2,  # count-based novelty (|S|=number of stimuli)\n",
    "         nt_css_seq3,  # count-based novelty (|S|=number of stimuli),\n",
    "         nt_cs         # count-based novelty (|S|=number of bins)\n",
    "         ]\n",
    "ls    = ['Counts (3 points)',\n",
    "         'Counts (6 points)',\n",
    "         'Counts (9 points)',\n",
    "         'Counts (180 bins)'\n",
    "         ]\n",
    "plot_nov_pred(nlist,cols,alphs,ls,sseq,lines=lines,slabel='count-comp',reduce_factor=reduce_factor)"
   ]
  },
  {
   "cell_type": "markdown",
   "metadata": {},
   "source": [
    "# Downside 2 of cnov: distinct/same vs. gradual identity?"
   ]
  },
  {
   "cell_type": "code",
   "execution_count": 31,
   "metadata": {},
   "outputs": [],
   "source": [
    "sseq1  = np.array([45,45,145]) # same\n",
    "sseq2  = np.array([45,60,145])\n",
    "sseq3  = np.array([45,85,145])"
   ]
  },
  {
   "cell_type": "code",
   "execution_count": 32,
   "metadata": {},
   "outputs": [],
   "source": [
    "# |S| = 3\n",
    "eps  = 3\n",
    "states = sseq1\n",
    "n1_css_seq1, n2_css_seq1, n3_css_seq1, nt_css_seq1 = sim_count_nov(states,eps,sseq1)"
   ]
  },
  {
   "cell_type": "code",
   "execution_count": 33,
   "metadata": {},
   "outputs": [],
   "source": [
    "# |S| = 3\n",
    "eps  = 3\n",
    "states = sseq2\n",
    "n1_css_seq2, n2_css_seq2, n3_css_seq2, nt_css_seq2 = sim_count_nov(states,eps,sseq2)"
   ]
  },
  {
   "cell_type": "code",
   "execution_count": 34,
   "metadata": {},
   "outputs": [],
   "source": [
    "# |S| = 3\n",
    "eps  = 3\n",
    "states = sseq3\n",
    "n1_css_seq3, n2_css_seq3, n3_css_seq3, nt_css_seq3 = sim_count_nov(states,eps,sseq3)"
   ]
  },
  {
   "cell_type": "code",
   "execution_count": 35,
   "metadata": {},
   "outputs": [
    {
     "name": "stdout",
     "output_type": "stream",
     "text": [
      "[  0.           7.82608696  15.65217391  23.47826087  31.30434783\n",
      "  39.13043478  46.95652174  54.7826087   62.60869565  70.43478261\n",
      "  78.26086957  86.08695652  93.91304348 101.73913043 109.56521739\n",
      " 117.39130435 125.2173913  133.04347826 140.86956522 148.69565217\n",
      " 156.52173913 164.34782609 172.17391304]\n"
     ]
    }
   ],
   "source": [
    "# Count-based novelty (|S| = number of bins)\n",
    "# 180 bins\n",
    "cnum = 23\n",
    "eps  = 3\n",
    "states = np.linspace(space[0],space[1],cnum+1)[:-1]\n",
    "print(states)\n",
    "n1_cs_seq1, n2_cs_seq1, n3_cs_seq1, nt_cs_seq1 = sim_count_nov(states,eps,sseq1)\n",
    "\n",
    "# 4 bins\n",
    "cnum = 4\n",
    "eps  = 3\n",
    "states = np.linspace(space[0],space[1],cnum+1)[:-1]\n",
    "n1_cl_seq1, n2_cl_seq1, n3_cl_seq1, nt_cl_seq1 = sim_count_nov(states,eps,sseq1)\n",
    "\n",
    "# 180 bins\n",
    "cnum = 23\n",
    "eps  = 3\n",
    "states = np.linspace(space[0],space[1],cnum+1)[:-1]\n",
    "n1_cs_seq2, n2_cs_seq2, n3_cs_seq2, nt_cs_seq2 = sim_count_nov(states,eps,sseq2)\n",
    "\n",
    "# 4 bins\n",
    "cnum = 4\n",
    "eps  = 3\n",
    "states = np.linspace(space[0],space[1],cnum+1)[:-1]\n",
    "n1_cl_seq2, n2_cl_seq2, n3_cl_seq2, nt_cl_seq2 = sim_count_nov(states,eps,sseq2)\n",
    "\n",
    "# 180 bins\n",
    "cnum = 23\n",
    "eps  = 3\n",
    "states = np.linspace(space[0],space[1],cnum+1)[:-1]\n",
    "n1_cs_seq3, n2_cs_seq3, n3_cs_seq3, nt_cs_seq3 = sim_count_nov(states,eps,sseq3)\n",
    "\n",
    "# 4 bins\n",
    "cnum = 4\n",
    "eps  = 3\n",
    "states = np.linspace(space[0],space[1],cnum+1)[:-1]\n",
    "n1_cl_seq3, n2_cl_seq3, n3_cl_seq3, nt_cl_seq3 = sim_count_nov(states,eps,sseq3)"
   ]
  },
  {
   "cell_type": "code",
   "execution_count": 36,
   "metadata": {},
   "outputs": [],
   "source": [
    "# Colormap \n",
    "col_all = prep_cmap_discrete('tab20c')\n",
    "cols = [col_all[0],\n",
    "        col_all[1]\n",
    "        ]\n",
    "alphs = [1]*len(cols)\n",
    "reduce_factor= 0.55\n",
    "lines =[':']*len(cols) "
   ]
  },
  {
   "cell_type": "code",
   "execution_count": 37,
   "metadata": {},
   "outputs": [
    {
     "name": "stderr",
     "output_type": "stream",
     "text": [
      "*c* argument looks like a single numeric RGB or RGBA sequence, which should be avoided as value-mapping will have precedence in case its length matches with *x* & *y*.  Please use the *color* keyword-argument or provide a 2D array with a single row if you intend to specify the same RGB or RGBA value for all points.\n",
      "*c* argument looks like a single numeric RGB or RGBA sequence, which should be avoided as value-mapping will have precedence in case its length matches with *x* & *y*.  Please use the *color* keyword-argument or provide a 2D array with a single row if you intend to specify the same RGB or RGBA value for all points.\n",
      "*c* argument looks like a single numeric RGB or RGBA sequence, which should be avoided as value-mapping will have precedence in case its length matches with *x* & *y*.  Please use the *color* keyword-argument or provide a 2D array with a single row if you intend to specify the same RGB or RGBA value for all points.\n",
      "*c* argument looks like a single numeric RGB or RGBA sequence, which should be avoided as value-mapping will have precedence in case its length matches with *x* & *y*.  Please use the *color* keyword-argument or provide a 2D array with a single row if you intend to specify the same RGB or RGBA value for all points.\n",
      "*c* argument looks like a single numeric RGB or RGBA sequence, which should be avoided as value-mapping will have precedence in case its length matches with *x* & *y*.  Please use the *color* keyword-argument or provide a 2D array with a single row if you intend to specify the same RGB or RGBA value for all points.\n",
      "*c* argument looks like a single numeric RGB or RGBA sequence, which should be avoided as value-mapping will have precedence in case its length matches with *x* & *y*.  Please use the *color* keyword-argument or provide a 2D array with a single row if you intend to specify the same RGB or RGBA value for all points.\n"
     ]
    },
    {
     "name": "stdout",
     "output_type": "stream",
     "text": [
      "(2.8408286801881215, 3.5110170964977554)\n",
      "(2.9097653489206303, 3.5077343979866833)\n",
      "(3.1277866819377866, 3.4973524297477714)\n"
     ]
    },
    {
     "data": {
      "image/png": "[encoded data removed]",
      "text/plain": [
       "<Figure size 571.725x198 with 3 Axes>"
      ]
     },
     "metadata": {
      "needs_background": "light"
     },
     "output_type": "display_data"
    }
   ],
   "source": [
    "nlist1 = [nt_cs_seq1,         \n",
    "         nt_cl_seq1\n",
    "         ]\n",
    "ls     = ['Small bins',\n",
    "         'Large bins'\n",
    "         ]\n",
    "nlist2 = [nt_cs_seq2,         \n",
    "         nt_cl_seq2\n",
    "         ]\n",
    "nlist3 = [nt_cs_seq3,         \n",
    "         nt_cl_seq3\n",
    "         ]\n",
    "\n",
    "lw = 3*1.75*reduce_factor\n",
    "fs = 5*reduce_factor\n",
    "\n",
    "f,ax = plt.subplots(1,3,figsize=(fs*lw,fs))\n",
    "plot_nov_pred(nlist1,cols,alphs,ls,sseq,lines=lines,slabel='all',reduce_factor=1,axl=[ax[0]],legend=True)\n",
    "plot_nov_pred(nlist2,cols,alphs,ls,sseq,lines=lines,slabel='all',reduce_factor=1,axl=[ax[1]],legend=False)\n",
    "plot_nov_pred(nlist3,cols,alphs,ls,sseq,lines=lines,slabel='all',reduce_factor=1,axl=[ax[2]],legend=False)\n",
    "for i in range(len(ax)):\n",
    "    ax[i].set_title(f'Boxes (sequ. {i+1})')\n",
    "    ax[i].set_ylim([2.8,3.5])\n",
    "    # ax[i].set_ylim([0.8,1.5])\n",
    "path_save = '/Users/sbecker/Projects/RL_reward_novelty/output/Figures_Paper/Fig_theory_kernels/v9'\n",
    "name_save = f'pred_state-box-comp'\n",
    "plt.savefig(os.path.join(path_save,f'{name_save}.svg'),transparent=True,bbox_inches='tight')"
   ]
  },
  {
   "cell_type": "code",
   "execution_count": 38,
   "metadata": {},
   "outputs": [],
   "source": [
    "# nlist = [nt_css, \n",
    "#          nt_cs_seq1,       \n",
    "#          nt_cs_seq2,\n",
    "#          nt_cs_seq3,  \n",
    "#          nt_cl_seq1,       \n",
    "#          nt_cl_seq2,\n",
    "#          nt_cl_seq3\n",
    "#          ]\n",
    "# ls    = ['Count-based (3 points)',\n",
    "#          'Small bins (sequ. 1)',\n",
    "#          'Small bins (sequ. 2)',\n",
    "#          'Small bins (sequ. 3)',\n",
    "#          'Large bins (sequ. 1)',\n",
    "#          'Large bins (sequ. 2)',\n",
    "#          'Large bins (sequ. 3)'\n",
    "#          ]\n",
    "# plot_nov_pred(nlist,cols,alphs,ls,sseq,lines=lines,slabel='all',reduce_factor=1)"
   ]
  },
  {
   "cell_type": "code",
   "execution_count": 39,
   "metadata": {},
   "outputs": [],
   "source": [
    "# Define triangle kernel novelty\n",
    "space = [0,180]\n",
    "knum = 4\n",
    "eps = 3\n",
    "\n",
    "kc =np.linspace(space[0],space[1],knum+1)[:-1]\n",
    "# print(kc)\n",
    "ksig = np.array([45]*knum)\n",
    "k = lambda x,loc,scale: knov.fusebounds(knov.k_triangle,smin=space[0],smax=space[1],x=x,loc=loc,scale=scale)\n",
    "\n",
    "splot = np.linspace(space[0],space[1],1000)\n",
    "\n",
    "# Initialize\n",
    "# kw, kmat, kmat_seq, rksum, rkmat, kmumat = knov.init_nov(k,kc,ksig,x=splot,seq=sseq)\n",
    "\n",
    "# Simulate novelty (seq1)\n",
    "n1_tk_seq1, n2_tk_seq1, n3_tk_seq1, nt_tk_seq1, kw_tk_seq1 = sim_kernel_nov(k,kc,ksig,knum,eps,splot,sseq1,return_kw=True)\n",
    "\n",
    "# Simulate novelty (seq2)\n",
    "n1_tk_seq2, n2_tk_seq2, n3_tk_seq2, nt_tk_seq2, kw_tk_seq2 = sim_kernel_nov(k,kc,ksig,knum,eps,splot,sseq2,return_kw=True)\n",
    "\n",
    "# Simulate novelty (seq3)\n",
    "n1_tk_seq3, n2_tk_seq3, n3_tk_seq3, nt_tk_seq3, kw_tk_seq3 = sim_kernel_nov(k,kc,ksig,knum,eps,splot,sseq3,return_kw=True)"
   ]
  },
  {
   "cell_type": "code",
   "execution_count": 40,
   "metadata": {},
   "outputs": [],
   "source": [
    "# Colormap \n",
    "col_all = prep_cmap_discrete('tab20c')\n",
    "cols = [col_all[4],\n",
    "        col_all[5],\n",
    "        col_all[6]\n",
    "        ]\n",
    "alphs = [1]*len(cols)\n",
    "reduce_factor= 0.55\n",
    "lines = [':']*len(cols) #['--','--',':','--',':'] #,'--','--']"
   ]
  },
  {
   "cell_type": "code",
   "execution_count": 41,
   "metadata": {},
   "outputs": [],
   "source": [
    "# nlist1 = [nt_css, \n",
    "#          nt_tk_seq1\n",
    "#          ]\n",
    "# nlist2 = [nt_css, \n",
    "#          nt_tk_seq2\n",
    "#          ]\n",
    "# nlist3 = [nt_css, \n",
    "#          nt_tk_seq3\n",
    "#          ]\n",
    "# ls     = ['Count-based',\n",
    "#          'Triangle kernels'\n",
    "#          ]\n",
    "\n",
    "# lw = 3*2*reduce_factor\n",
    "# fs = 4*reduce_factor\n",
    "\n",
    "# f,ax = plt.subplots(1,3,figsize=(fs*lw,fs))\n",
    "# plot_nov_pred(nlist1,cols,alphs,ls,sseq,lines=lines,slabel='all',reduce_factor=1,axl=[ax[0]],legend=False)\n",
    "# plot_nov_pred(nlist2,cols,alphs,ls,sseq,lines=lines,slabel='all',reduce_factor=1,axl=[ax[1]],legend=False)\n",
    "# plot_nov_pred(nlist3,cols,alphs,ls,sseq,lines=lines,slabel='all',reduce_factor=1,axl=[ax[2]],legend=True)\n",
    "# for i in range(len(ax)):\n",
    "#     ax[i].set_title(f'Sequ. {i+1}')\n",
    "\n",
    "# path_save = '/Users/sbecker/Projects/RL_reward_novelty/output/Figures_Paper/Fig_theory_kernels/v9'\n",
    "# name_save = f'pred_state-comp-triangle'\n",
    "# plt.savefig(os.path.join(path_save,f'{name_save}.svg'),transparent=True,bbox_inches='tight')"
   ]
  },
  {
   "cell_type": "code",
   "execution_count": 42,
   "metadata": {},
   "outputs": [
    {
     "name": "stderr",
     "output_type": "stream",
     "text": [
      "*c* argument looks like a single numeric RGB or RGBA sequence, which should be avoided as value-mapping will have precedence in case its length matches with *x* & *y*.  Please use the *color* keyword-argument or provide a 2D array with a single row if you intend to specify the same RGB or RGBA value for all points.\n",
      "*c* argument looks like a single numeric RGB or RGBA sequence, which should be avoided as value-mapping will have precedence in case its length matches with *x* & *y*.  Please use the *color* keyword-argument or provide a 2D array with a single row if you intend to specify the same RGB or RGBA value for all points.\n",
      "*c* argument looks like a single numeric RGB or RGBA sequence, which should be avoided as value-mapping will have precedence in case its length matches with *x* & *y*.  Please use the *color* keyword-argument or provide a 2D array with a single row if you intend to specify the same RGB or RGBA value for all points.\n"
     ]
    },
    {
     "name": "stdout",
     "output_type": "stream",
     "text": [
      "(4.950303417777132, 5.579520817352245)\n"
     ]
    },
    {
     "ename": "TypeError",
     "evalue": "'AxesSubplot' object is not subscriptable",
     "output_type": "error",
     "traceback": [
      "\u001b[0;31m---------------------------------------------------------------------------\u001b[0m",
      "\u001b[0;31mTypeError\u001b[0m                                 Traceback (most recent call last)",
      "Input \u001b[0;32mIn [42]\u001b[0m, in \u001b[0;36m<module>\u001b[0;34m\u001b[0m\n\u001b[1;32m     14\u001b[0m plot_nov_pred(nlist,cols,alphs,ls,sseq,lines\u001b[38;5;241m=\u001b[39mlines,slabel\u001b[38;5;241m=\u001b[39m\u001b[38;5;124m'\u001b[39m\u001b[38;5;124mall\u001b[39m\u001b[38;5;124m'\u001b[39m,reduce_factor\u001b[38;5;241m=\u001b[39mreduce_factor,axl\u001b[38;5;241m=\u001b[39m[ax])\n\u001b[1;32m     15\u001b[0m \u001b[38;5;66;03m# ax.set_ylim([0.8,1.5])\u001b[39;00m\n\u001b[0;32m---> 16\u001b[0m \u001b[43max\u001b[49m\u001b[43m[\u001b[49m\u001b[43mi\u001b[49m\u001b[43m]\u001b[49m\u001b[38;5;241m.\u001b[39mset_ylim([\u001b[38;5;241m2.8\u001b[39m,\u001b[38;5;241m3.5\u001b[39m])\n\u001b[1;32m     17\u001b[0m ax\u001b[38;5;241m.\u001b[39mset_title(\u001b[38;5;124m'\u001b[39m\u001b[38;5;124mTriangle kernels\u001b[39m\u001b[38;5;124m'\u001b[39m)\n\u001b[1;32m     18\u001b[0m path_save \u001b[38;5;241m=\u001b[39m \u001b[38;5;124m'\u001b[39m\u001b[38;5;124m/Users/sbecker/Projects/RL_reward_novelty/output/Figures_Paper/Fig_theory_kernels/v9\u001b[39m\u001b[38;5;124m'\u001b[39m\n",
      "\u001b[0;31mTypeError\u001b[0m: 'AxesSubplot' object is not subscriptable"
     ]
    },
    {
     "data": {
      "image/png": "[encoded data removed]",
      "text/plain": [
       "<Figure size 190.575x198 with 1 Axes>"
      ]
     },
     "metadata": {
      "needs_background": "light"
     },
     "output_type": "display_data"
    }
   ],
   "source": [
    "nlist = [ \n",
    "         nt_tk_seq1,\n",
    "         nt_tk_seq2,\n",
    "         nt_tk_seq3\n",
    "         ]\n",
    "ls    = [\n",
    "         'Sequ. 1',\n",
    "         'Sequ. 2',\n",
    "         'Sequ. 3'\n",
    "         ]\n",
    "lw = 1.75*reduce_factor\n",
    "fs = 5*reduce_factor\n",
    "f,ax = plt.subplots(1,1,figsize=(fs*lw,fs))\n",
    "plot_nov_pred(nlist,cols,alphs,ls,sseq,lines=lines,slabel='all',reduce_factor=reduce_factor,axl=[ax])\n",
    "# ax.set_ylim([0.8,1.5])\n",
    "ax[i].set_ylim([2.8,3.5])\n",
    "ax.set_title('Triangle kernels')\n",
    "path_save = '/Users/sbecker/Projects/RL_reward_novelty/output/Figures_Paper/Fig_theory_kernels/v9'\n",
    "name_save = f'pred_state-comp-triangle'\n",
    "plt.savefig(os.path.join(path_save,f'{name_save}.svg'),transparent=True,bbox_inches='tight')"
   ]
  },
  {
   "cell_type": "code",
   "execution_count": 419,
   "metadata": {},
   "outputs": [],
   "source": [
    "# Define Gauss kernel novelty\n",
    "space = [0,180]\n",
    "knum = 4\n",
    "eps = 3\n",
    "\n",
    "kc =np.linspace(space[0],space[1],knum+1)[:-1]\n",
    "# print(kc)\n",
    "ksig = np.array([20]*knum)\n",
    "k = lambda x,loc,scale: knov.fusebounds(knov.k_gauss,smin=space[0],smax=space[1],x=x,loc=loc,scale=scale)\n",
    "\n",
    "splot = np.linspace(space[0],space[1],1000)\n",
    "# sseq  = np.array([45,55,145])\n",
    "# sseq2  = np.array([45,45,145])\n",
    "\n",
    "# Initialize (just for plotting)\n",
    "# kw, kmat, kmat_seq, rksum, rkmat, kmumat = knov.init_nov(k,kc,ksig,x=splot,seq=sseq)\n",
    "# Simulate novelty (seq1)\n",
    "n1_gk_seq1, n2_gk_seq1, n3_gk_seq1, nt_gk_seq1, kw_gk_seq1 = sim_kernel_nov(k,kc,ksig,knum,eps,splot,sseq1,return_kw=True)\n",
    "\n",
    "# Simulate novelty (seq2)\n",
    "n1_gk_seq2, n2_gk_seq2, n3_gk_seq2, nt_gk_seq2, kw_gk_seq2 = sim_kernel_nov(k,kc,ksig,knum,eps,splot,sseq2,return_kw=True)\n",
    "\n",
    "# Simulate novelty (seq3)\n",
    "n1_gk_seq3, n2_gk_seq3, n3_gk_seq3, nt_gk_seq3, kw_gk_seq3 = sim_kernel_nov(k,kc,ksig,knum,eps,splot,sseq3,return_kw=True)"
   ]
  },
  {
   "cell_type": "code",
   "execution_count": 420,
   "metadata": {},
   "outputs": [],
   "source": [
    "# Colormap \n",
    "col_all = prep_cmap_discrete('tab20c')\n",
    "cols = ['k',\n",
    "        # col_all[0],\n",
    "        # col_all[1],\n",
    "        # col_all[2],\n",
    "        col_all[4],\n",
    "        col_all[5],\n",
    "        col_all[6],\n",
    "        'k'\n",
    "        # col_all[8],\n",
    "        # col_all[9]\n",
    "        ]\n",
    "alphs = [1]*len(cols)\n",
    "reduce_factor= 0.55\n",
    "lines = [':']*len(cols) #['--','--',':','--',':'] #,'--','--']"
   ]
  },
  {
   "cell_type": "code",
   "execution_count": 440,
   "metadata": {},
   "outputs": [
    {
     "name": "stderr",
     "output_type": "stream",
     "text": [
      "*c* argument looks like a single numeric RGB or RGBA sequence, which should be avoided as value-mapping will have precedence in case its length matches with *x* & *y*.  Please use the *color* keyword-argument or provide a 2D array with a single row if you intend to specify the same RGB or RGBA value for all points.\n",
      "*c* argument looks like a single numeric RGB or RGBA sequence, which should be avoided as value-mapping will have precedence in case its length matches with *x* & *y*.  Please use the *color* keyword-argument or provide a 2D array with a single row if you intend to specify the same RGB or RGBA value for all points.\n",
      "*c* argument looks like a single numeric RGB or RGBA sequence, which should be avoided as value-mapping will have precedence in case its length matches with *x* & *y*.  Please use the *color* keyword-argument or provide a 2D array with a single row if you intend to specify the same RGB or RGBA value for all points.\n"
     ]
    },
    {
     "name": "stdout",
     "output_type": "stream",
     "text": [
      "(0.8971411192613497, 1.518432596743066)\n"
     ]
    },
    {
     "data": {
      "image/png": "[encoded data removed]",
      "text/plain": [
       "<Figure size 190.575x198 with 1 Axes>"
      ]
     },
     "metadata": {
      "needs_background": "light"
     },
     "output_type": "display_data"
    }
   ],
   "source": [
    "nlist = [nt_css_seq1,  \n",
    "        #  nt_cl_seq1, \n",
    "        #  nt_cl_seq2, \n",
    "        #  nt_cl_seq3,\n",
    "         nt_gk_seq1,\n",
    "         nt_gk_seq2,\n",
    "         nt_gk_seq3,\n",
    "         nt_css_seq2\n",
    "         ]\n",
    "ls    = ['Count-based',\n",
    "        #  'Large boxes (sequ. 1)',\n",
    "        #  'Large boxes (sequ. 2)',\n",
    "        #  'Large boxes (sequ. 3)',\n",
    "         'Sequ. 1',\n",
    "         'Sequ. 2',\n",
    "         'Sequ. 3'\n",
    "         ]\n",
    "lw = 1.75*reduce_factor\n",
    "fs = 5*reduce_factor\n",
    "f,ax = plt.subplots(1,1,figsize=(fs*lw,fs))\n",
    "plot_nov_pred(nlist,cols,alphs,ls,sseq,lines=lines,slabel='all',reduce_factor=reduce_factor,axl=[ax])\n",
    "ax.set_title('Gaussian kernels')\n",
    "ax.set_ylim([0.8,1.5])\n",
    "path_save = '/Users/sbecker/Projects/RL_reward_novelty/output/Figures_Paper/Fig_theory_kernels/v9'\n",
    "name_save = f'pred_state-comp-gauss'\n",
    "plt.savefig(os.path.join(path_save,f'{name_save}.svg'),transparent=True,bbox_inches='tight')"
   ]
  },
  {
   "cell_type": "markdown",
   "metadata": {},
   "source": [
    "# Sequences"
   ]
  },
  {
   "cell_type": "code",
   "execution_count": 47,
   "metadata": {},
   "outputs": [],
   "source": [
    "deg_to_rad = lambda deg: np.round((deg%360)/180,4)\n",
    "obar = lambda x,angle,prec=4,x_scale=1,x_offset=0,y_scale=1,y_offset=0: np.round((np.sin(angle*np.pi)*x_scale)/(np.cos(angle*np.pi)*y_scale),prec)*(x-x_offset)+y_offset"
   ]
  },
  {
   "cell_type": "code",
   "execution_count": 48,
   "metadata": {},
   "outputs": [],
   "source": [
    "def plot_seq(d,seq_id):\n",
    "    d_gab  = [deg_to_rad(i) for i in d]\n",
    "    d_line = [deg_to_rad(i) for i in d]\n",
    "\n",
    "    ylim   = [[-156.91,135.035],[-323.9475,302.075]]\n",
    "\n",
    "    f,ax = plt.subplots(1,len(d),figsize=(len(d)*3,3),subplot_kw={'box_aspect':1.0})\n",
    "    for i in range(len(d_gab)):\n",
    "        g = gabor_kernel(frequency=0.1, theta=d_gab[i]*np.pi, \n",
    "                        sigma_x=5.0, sigma_y=5.0, offset=0, n_stds=3)\n",
    "        ax[i].imshow(np.real(g), cmap='binary',interpolation='none',origin='lower', #RdBu\n",
    "                    vmin=-abs(g).max(),vmax=abs(g).max(), aspect='auto')\n",
    "        ax[i].invert_yaxis()\n",
    "        ax[i].axis('off')\n",
    "        print([ax[i].get_xlim(), ax[i].get_ylim()])\n",
    "    f.tight_layout()\n",
    "\n",
    "    path_save = '/Users/sbecker/Projects/RL_reward_novelty/output/Figures_Paper/Fig_theory_kernels/v10'\n",
    "    name_save = f'gabor_seq{seq_id}'\n",
    "    plt.savefig(os.path.join(path_save,f'{name_save}.svg'),transparent=True)"
   ]
  },
  {
   "cell_type": "code",
   "execution_count": 45,
   "metadata": {},
   "outputs": [
    {
     "name": "stdout",
     "output_type": "stream",
     "text": [
      "[(-0.5, 22.5), (22.5, -0.5)]\n",
      "[(-0.5, 26.5), (26.5, -0.5)]\n",
      "[(-0.5, 26.5), (26.5, -0.5)]\n"
     ]
    },
    {
     "data": {
      "image/png": "[encoded data removed]",
      "text/plain": [
       "<Figure size 648x216 with 3 Axes>"
      ]
     },
     "metadata": {
      "needs_background": "light"
     },
     "output_type": "display_data"
    }
   ],
   "source": [
    "d      = [45,55,148]\n",
    "seq_id = 1\n",
    "plot_seq(d,seq_id)"
   ]
  },
  {
   "cell_type": "code",
   "execution_count": 46,
   "metadata": {},
   "outputs": [
    {
     "name": "stdout",
     "output_type": "stream",
     "text": [
      "[(-0.5, 22.5), (22.5, -0.5)]\n",
      "[(-0.5, 26.5), (26.5, -0.5)]\n",
      "[(-0.5, 26.5), (26.5, -0.5)]\n",
      "[(-0.5, 30.5), (30.5, -0.5)]\n",
      "[(-0.5, 30.5), (30.5, -0.5)]\n",
      "[(-0.5, 30.5), (30.5, -0.5)]\n"
     ]
    },
    {
     "data": {
      "image/png": "[encoded data removed]",
      "text/plain": [
       "<Figure size 1296x216 with 6 Axes>"
      ]
     },
     "metadata": {
      "needs_background": "light"
     },
     "output_type": "display_data"
    }
   ],
   "source": [
    "d      = [45,55,148, 10, 110, 75]\n",
    "seq_id = 2\n",
    "plot_seq(d,seq_id)"
   ]
  },
  {
   "cell_type": "code",
   "execution_count": 47,
   "metadata": {},
   "outputs": [
    {
     "name": "stdout",
     "output_type": "stream",
     "text": [
      "[(-0.5, 22.5), (22.5, -0.5)]\n",
      "[(-0.5, 26.5), (26.5, -0.5)]\n",
      "[(-0.5, 26.5), (26.5, -0.5)]\n",
      "[(-0.5, 30.5), (30.5, -0.5)]\n",
      "[(-0.5, 30.5), (30.5, -0.5)]\n",
      "[(-0.5, 30.5), (30.5, -0.5)]\n",
      "[(-0.5, 30.5), (30.5, -0.5)]\n",
      "[(-0.5, 26.5), (26.5, -0.5)]\n",
      "[(-0.5, 22.5), (22.5, -0.5)]\n"
     ]
    },
    {
     "data": {
      "image/png": "[encoded data removed]",
      "text/plain": [
       "<Figure size 1944x216 with 9 Axes>"
      ]
     },
     "metadata": {
      "needs_background": "light"
     },
     "output_type": "display_data"
    }
   ],
   "source": [
    "d      = [45,55,148, 10, 110, 75, 95, 30, 135]\n",
    "seq_id = 3\n",
    "plot_seq(d,seq_id)"
   ]
  },
  {
   "cell_type": "code",
   "execution_count": 49,
   "metadata": {},
   "outputs": [
    {
     "name": "stdout",
     "output_type": "stream",
     "text": [
      "[(-0.5, 22.5), (22.5, -0.5)]\n",
      "[(-0.5, 28.5), (28.5, -0.5)]\n",
      "[(-0.5, 22.5), (22.5, -0.5)]\n"
     ]
    },
    {
     "data": {
      "image/png": "[encoded data removed]",
      "text/plain": [
       "<Figure size 648x216 with 3 Axes>"
      ]
     },
     "metadata": {
      "needs_background": "light"
     },
     "output_type": "display_data"
    }
   ],
   "source": [
    "d      = [45,65,135]\n",
    "seq_id = 4\n",
    "plot_seq(d,seq_id)"
   ]
  },
  {
   "cell_type": "code",
   "execution_count": 50,
   "metadata": {},
   "outputs": [
    {
     "name": "stdout",
     "output_type": "stream",
     "text": [
      "[(-0.5, 22.5), (22.5, -0.5)]\n",
      "[(-0.5, 30.5), (30.5, -0.5)]\n",
      "[(-0.5, 22.5), (22.5, -0.5)]\n"
     ]
    },
    {
     "data": {
      "image/png": "[encoded data removed]",
      "text/plain": [
       "<Figure size 648x216 with 3 Axes>"
      ]
     },
     "metadata": {
      "needs_background": "light"
     },
     "output_type": "display_data"
    }
   ],
   "source": [
    "d      = [45,85,135]\n",
    "seq_id = 5\n",
    "plot_seq(d,seq_id)"
   ]
  },
  {
   "cell_type": "markdown",
   "metadata": {},
   "source": [
    "# Full Figure"
   ]
  },
  {
   "cell_type": "code",
   "execution_count": 8,
   "metadata": {},
   "outputs": [],
   "source": [
    "def plot_nov_pred_nonformatted(nlist,cols,alphs,ls,sseq,ax,tl,s,lw,lines=[],dashes=[],slabel='',legend=True,ref_norm=None):\n",
    "\n",
    "    if len(lines)==0:\n",
    "        lines = ['--']*len(alphs)\n",
    "\n",
    "    if not ref_norm:\n",
    "        ref_norm = nlist[0][0]\n",
    "\n",
    "    lh = []\n",
    "    for i in range(len(nlist)):\n",
    "        ni = nlist[i]\n",
    "        diff = ni[0]-ref_norm\n",
    "        if len(dashes)>0:\n",
    "            ax.plot(np.arange(len(sseq)),np.array(ni)-diff,lines[i],lw=lw,color=cols[i],alpha=alphs[i],dashes=dashes[i])\n",
    "        else:\n",
    "            ax.plot(np.arange(len(sseq)),np.array(ni)-diff,lines[i],lw=lw,color=cols[i],alpha=alphs[i])\n",
    "        a = ax.scatter(np.arange(len(sseq)),np.array(ni)-diff,s=s,marker='s',color=cols[i],alpha=alphs[i])\n",
    "        lh.append(a)\n",
    "\n",
    "    ax.spines['top'].set_visible(False)\n",
    "    ax.spines['left'].set_visible(True)\n",
    "    ax.spines['right'].set_visible(False)\n",
    "    ax.spines['bottom'].set_visible(True)\n",
    "    ax.set_xlabel('Time points',fontsize=tl)\n",
    "    ax.set_xticks(np.arange(len(sseq)))\n",
    "    ax.set_xticklabels(np.arange(len(sseq))+1,fontsize=tl)\n",
    "    # ax.set_ylabel('Novelty prediction',fontsize=tl)\n",
    "    ax.set_yticks([])\n",
    "    ax.set_ylim(ax.get_ylim()+np.array([0,0.2]))\n",
    "    print(ax.get_ylim())\n",
    "    if legend:\n",
    "        ax.legend(lh,ls,fontsize=tl-2,loc='upper left',frameon=False)\n",
    "    return lh, ls"
   ]
  },
  {
   "cell_type": "code",
   "execution_count": 9,
   "metadata": {},
   "outputs": [],
   "source": [
    "sseq1  = np.array([45,45,135,45]) \n",
    "sseq2  = np.array([45,60,135,45])\n",
    "sseq3  = np.array([45,85,135,45])"
   ]
  },
  {
   "cell_type": "code",
   "execution_count": 10,
   "metadata": {},
   "outputs": [
    {
     "name": "stdout",
     "output_type": "stream",
     "text": [
      "[  0.  20.  40.  60.  80. 100. 120. 140. 160.]\n",
      "[  0.  45.  90. 135.]\n"
     ]
    }
   ],
   "source": [
    "# Compute count-based novelty (|S| = number of bins)\n",
    "cnum_s = 9 # bin width = 20\n",
    "cnum_l = 4 # bin width = 45\n",
    "# 180 bins\n",
    "space = [0,180]\n",
    "cnum = cnum_s\n",
    "eps  = 3\n",
    "states = np.linspace(space[0],space[1],cnum+1)[:-1]\n",
    "print(states)\n",
    "n1_cs_seq1, n2_cs_seq1, n3_cs_seq1, nt_cs_seq1 = sim_count_nov(states,eps,sseq1)\n",
    "\n",
    "# 4 bins\n",
    "cnum = cnum_l\n",
    "eps  = 3\n",
    "states = np.linspace(space[0],space[1],cnum+1)[:-1]\n",
    "print(states)\n",
    "n1_cl_seq1, n2_cl_seq1, n3_cl_seq1, nt_cl_seq1 = sim_count_nov(states,eps,sseq1)\n",
    "\n",
    "# 180 bins\n",
    "cnum = cnum_s\n",
    "eps  = 3\n",
    "states = np.linspace(space[0],space[1],cnum+1)[:-1]\n",
    "n1_cs_seq2, n2_cs_seq2, n3_cs_seq2, nt_cs_seq2 = sim_count_nov(states,eps,sseq2)\n",
    "\n",
    "# 4 bins\n",
    "cnum = cnum_l\n",
    "eps  = 3\n",
    "states = np.linspace(space[0],space[1],cnum+1)[:-1]\n",
    "n1_cl_seq2, n2_cl_seq2, n3_cl_seq2, nt_cl_seq2 = sim_count_nov(states,eps,sseq2)\n",
    "\n",
    "# 180 bins\n",
    "cnum = cnum_s\n",
    "eps  = 3\n",
    "states = np.linspace(space[0],space[1],cnum+1)[:-1]\n",
    "n1_cs_seq3, n2_cs_seq3, n3_cs_seq3, nt_cs_seq3 = sim_count_nov(states,eps,sseq3)\n",
    "\n",
    "# 4 bins\n",
    "cnum = cnum_l\n",
    "eps  = 3\n",
    "states = np.linspace(space[0],space[1],cnum+1)[:-1]\n",
    "n1_cl_seq3, n2_cl_seq3, n3_cl_seq3, nt_cl_seq3 = sim_count_nov(states,eps,sseq3)"
   ]
  },
  {
   "cell_type": "code",
   "execution_count": 11,
   "metadata": {},
   "outputs": [],
   "source": [
    "# Compute triangle kernel novelty\n",
    "space = [0,180]\n",
    "knum = 4\n",
    "eps = 3\n",
    "\n",
    "kc =np.linspace(space[0],space[1],knum+1)[:-1]\n",
    "# print(kc)\n",
    "ksig = np.array([45]*knum)\n",
    "k = lambda x,loc,scale: knov.fusebounds(knov.k_triangle,smin=space[0],smax=space[1],x=x,loc=loc,scale=scale)\n",
    "\n",
    "splot = np.linspace(space[0],space[1],1000)\n",
    "\n",
    "# Initialize\n",
    "# kw, kmat, kmat_seq, rksum, rkmat, kmumat = knov.init_nov(k,kc,ksig,x=splot,seq=sseq)\n",
    "\n",
    "# Simulate novelty (seq1)\n",
    "n1_tk_seq1, n2_tk_seq1, n3_tk_seq1, nt_tk_seq1, kw_tk_seq1 = sim_kernel_nov(k,kc,ksig,knum,eps,splot,sseq1,return_kw=True)\n",
    "\n",
    "# Simulate novelty (seq2)\n",
    "n1_tk_seq2, n2_tk_seq2, n3_tk_seq2, nt_tk_seq2, kw_tk_seq2 = sim_kernel_nov(k,kc,ksig,knum,eps,splot,sseq2,return_kw=True)\n",
    "\n",
    "# Simulate novelty (seq3)\n",
    "n1_tk_seq3, n2_tk_seq3, n3_tk_seq3, nt_tk_seq3, kw_tk_seq3 = sim_kernel_nov(k,kc,ksig,knum,eps,splot,sseq3,return_kw=True)"
   ]
  },
  {
   "cell_type": "code",
   "execution_count": 12,
   "metadata": {},
   "outputs": [],
   "source": [
    "# Define Gauss kernel novelty\n",
    "space = [0,180]\n",
    "knum = 4\n",
    "eps = 3\n",
    "\n",
    "kc =np.linspace(space[0],space[1],knum+1)[:-1]\n",
    "# print(kc)\n",
    "ksig = np.array([20]*knum)\n",
    "k = lambda x,loc,scale: knov.fusebounds(knov.k_gauss,smin=space[0],smax=space[1],x=x,loc=loc,scale=scale)\n",
    "\n",
    "splot = np.linspace(space[0],space[1],1000)\n",
    "# sseq  = np.array([45,55,145])\n",
    "# sseq2  = np.array([45,45,145])\n",
    "\n",
    "# Initialize (just for plotting)\n",
    "# kw, kmat, kmat_seq, rksum, rkmat, kmumat = knov.init_nov(k,kc,ksig,x=splot,seq=sseq)\n",
    "# Simulate novelty (seq1)\n",
    "n1_gk_seq1, n2_gk_seq1, n3_gk_seq1, nt_gk_seq1, kw_gk_seq1 = sim_kernel_nov(k,kc,ksig,knum,eps,splot,sseq1,return_kw=True)\n",
    "\n",
    "# Simulate novelty (seq2)\n",
    "n1_gk_seq2, n2_gk_seq2, n3_gk_seq2, nt_gk_seq2, kw_gk_seq2 = sim_kernel_nov(k,kc,ksig,knum,eps,splot,sseq2,return_kw=True)\n",
    "\n",
    "# Simulate novelty (seq3)\n",
    "n1_gk_seq3, n2_gk_seq3, n3_gk_seq3, nt_gk_seq3, kw_gk_seq3 = sim_kernel_nov(k,kc,ksig,knum,eps,splot,sseq3,return_kw=True)"
   ]
  },
  {
   "cell_type": "code",
   "execution_count": 13,
   "metadata": {},
   "outputs": [],
   "source": [
    "reduce_factor= 0.7"
   ]
  },
  {
   "cell_type": "code",
   "execution_count": 14,
   "metadata": {},
   "outputs": [
    {
     "name": "stdout",
     "output_type": "stream",
     "text": [
      "(0.5665541024950642, 1.3821314692240296)\n",
      "(0.5665541024950642, 1.5821314692240296)\n",
      "(0.5665541024950642, 1.7821314692240295)\n",
      "(0.5665541024950642, 1.9821314692240295)\n",
      "(0.5665541024950642, 2.1821314692240295)\n"
     ]
    },
    {
     "data": {
      "image/png": "[encoded data removed]",
      "text/plain": [
       "<Figure size 705.6x169.344 with 5 Axes>"
      ]
     },
     "metadata": {
      "needs_background": "light"
     },
     "output_type": "display_data"
    }
   ],
   "source": [
    "# Init figure\n",
    "ratio = 0.24\n",
    "fs = 14*reduce_factor\n",
    "lw = 3*reduce_factor\n",
    "tl = 11\n",
    "s = 70*reduce_factor\n",
    "\n",
    "f,ax = plt.subplots(1,5,figsize=(fs,fs*ratio),sharey=True)\n",
    "\n",
    "# Count-based panels\n",
    "col_all = prep_cmap_discrete('tab20c')\n",
    "cols = [col_all[0],\n",
    "        col_all[1]\n",
    "        ]\n",
    "alphs = [1]*len(cols)\n",
    "lines =[':']*len(cols)\n",
    "\n",
    "nlist1 = [nt_cs_seq1,         \n",
    "          nt_cl_seq1\n",
    "         ]\n",
    "ls     = ['Small bins',\n",
    "         'Large bins'\n",
    "         ]\n",
    "nlist2 = [nt_cs_seq2,         \n",
    "         nt_cl_seq2\n",
    "         ]\n",
    "nlist3 = [nt_cs_seq3,         \n",
    "         nt_cl_seq3\n",
    "         ]\n",
    "\n",
    "ref_norm = 1\n",
    "\n",
    "plot_nov_pred_nonformatted(nlist1,cols,alphs,ls,sseq1,ax[0],tl,s,lw,lines=lines,legend=True,ref_norm=ref_norm)\n",
    "plot_nov_pred_nonformatted(nlist2,cols,alphs,ls,sseq1,ax[1],tl,s,lw,lines=lines,legend=False,ref_norm=ref_norm)\n",
    "plot_nov_pred_nonformatted(nlist3,cols,alphs,ls,sseq1,ax[2],tl,s,lw,lines=lines,legend=False,ref_norm=ref_norm)\n",
    "\n",
    "# Kernel-based panels\n",
    "cols = [col_all[4],\n",
    "        col_all[5],\n",
    "        col_all[6]\n",
    "        ]\n",
    "alphs = [1]*len(cols)\n",
    "lines = [':']*len(cols) \n",
    "\n",
    "nlist_t = [nt_tk_seq1,\n",
    "         nt_tk_seq2,\n",
    "         nt_tk_seq3\n",
    "         ]\n",
    "nlist_g = [nt_gk_seq1,\n",
    "         nt_gk_seq2,\n",
    "         nt_gk_seq3\n",
    "         ]\n",
    "ls    = ['Sequ. 1',\n",
    "         'Sequ. 2',\n",
    "         'Sequ. 3'\n",
    "         ]\n",
    "\n",
    "plot_nov_pred_nonformatted(nlist_t,cols,alphs,ls,sseq1,ax[3],tl,s,lw,lines=lines,ref_norm=ref_norm)\n",
    "plot_nov_pred_nonformatted(nlist_g,cols,alphs,ls,sseq1,ax[4],tl,s,lw,lines=lines,ref_norm=ref_norm,legend=True)\n",
    "\n",
    "# Format & save\n",
    "for i in range(len(ax)):\n",
    "       ax[i].set_ylim([0.7,1.4])\n",
    "for i in range(3):\n",
    "        ax[i].set_title(f'Boxes (seq. {i+1})',fontsize=tl)\n",
    "ax[3].set_title('Triangle kernels',fontsize=tl)\n",
    "ax[4].set_title('Gaussian kernels',fontsize=tl)\n",
    "ax[0].set_ylabel('Novelty prediction',fontsize=tl)\n",
    "\n",
    "\n",
    "path_save = '/Users/sbecker/Projects/RL_reward_novelty/output/Figures_Paper/Fig_theory_kernels/v9'\n",
    "name_save = f'pred_state-all-panels'\n",
    "sl.make_long_dir(path_save)\n",
    "plt.savefig(os.path.join(path_save,f'{name_save}.svg'),transparent=True,bbox_inches='tight')"
   ]
  },
  {
   "cell_type": "code",
   "execution_count": 15,
   "metadata": {},
   "outputs": [
    {
     "name": "stdout",
     "output_type": "stream",
     "text": [
      "9\n",
      "(0.5706886882873199, 1.29530516758666)\n",
      "(0.5706886882873199, 1.49530516758666)\n",
      "(0.5706886882873199, 1.69530516758666)\n",
      "(0.5706886882873199, 1.89530516758666)\n"
     ]
    },
    {
     "data": {
      "image/png": "[encoded data removed]",
      "text/plain": [
       "<Figure size 604.8x145.152 with 4 Axes>"
      ]
     },
     "metadata": {
      "needs_background": "light"
     },
     "output_type": "display_data"
    }
   ],
   "source": [
    "# Init figure\n",
    "ratio = 0.24\n",
    "fs = 12*reduce_factor\n",
    "lw = 3*reduce_factor\n",
    "tl = 11\n",
    "s = 70*reduce_factor\n",
    "\n",
    "f,ax = plt.subplots(1,4,figsize=(fs,fs*ratio),sharey=True)\n",
    "\n",
    "# Count-based panels\n",
    "# col_all = prep_cmap_discrete('Set1') #('tab20c')\n",
    "# cols = [col_all[0],\n",
    "#         col_all[3],\n",
    "#         col_all[1]\n",
    "#         ]\n",
    "# col_all = prep_cmap('PRGn',8)\n",
    "# print(len(col_all))\n",
    "# cols = [col_all[2],\n",
    "#         col_all[1],\n",
    "#         col_all[0]\n",
    "#         ]\n",
    "# cols = [col_all[5],\n",
    "#         col_all[6],\n",
    "#         col_all[7]\n",
    "#         ]\n",
    "col_all = prep_cmap('plasma',8)\n",
    "print(len(col_all))\n",
    "cols = [col_all[3],\n",
    "        col_all[5],\n",
    "        col_all[7]\n",
    "        ]\n",
    "alphs = [1]*len(cols)\n",
    "lines =[':']*len(cols)\n",
    "dashes = [(3,1,3,1),(2,2,2,2),(1,3,1,3)]\n",
    "\n",
    "nlist_cs = [nt_cs_seq1,         \n",
    "          nt_cs_seq2,\n",
    "          nt_cs_seq3\n",
    "         ]\n",
    "ls     = ['Seq. 1',\n",
    "          'Seq. 2',\n",
    "          'Seq. 3'\n",
    "         ]\n",
    "nlist_cl = [nt_cl_seq1,         \n",
    "          nt_cl_seq2,\n",
    "          nt_cl_seq3\n",
    "         ]\n",
    "\n",
    "ref_norm = 1\n",
    "\n",
    "plot_nov_pred_nonformatted(nlist_cs,cols,alphs,ls,sseq1,ax[0],tl,s,lw,lines=lines,dashes=dashes,ref_norm=ref_norm)\n",
    "plot_nov_pred_nonformatted(nlist_cl,cols,alphs,ls,sseq1,ax[1],tl,s,lw,lines=lines,dashes=dashes,ref_norm=ref_norm,legend=False)\n",
    "# plot_nov_pred_nonformatted(nlist1,cols,alphs,ls,sseq,ax[0],tl,s,lw,lines=lines,legend=True,ref_norm=ref_norm)\n",
    "# plot_nov_pred_nonformatted(nlist2,cols,alphs,ls,sseq,ax[1],tl,s,lw,lines=lines,legend=False,ref_norm=ref_norm)\n",
    "# plot_nov_pred_nonformatted(nlist3,cols,alphs,ls,sseq,ax[2],tl,s,lw,lines=lines,legend=False,ref_norm=ref_norm)\n",
    "\n",
    "# Kernel-based panels\n",
    "# cols = [col_all[0],\n",
    "#         col_all[3],\n",
    "#         col_all[1]\n",
    "#         ]\n",
    "alphs = [1]*len(cols)\n",
    "lines = [':']*len(cols) \n",
    "dashes = [(3,1,3,1),(2,2,2,2),(1,3,1,3)]\n",
    "\n",
    "nlist_t = [nt_tk_seq1,\n",
    "         nt_tk_seq2,\n",
    "         nt_tk_seq3\n",
    "         ]\n",
    "nlist_g = [nt_gk_seq1,\n",
    "         nt_gk_seq2,\n",
    "         nt_gk_seq3\n",
    "         ]\n",
    "ls    = ['Seq. 1',\n",
    "         'Seq. 2',\n",
    "         'Seq. 3'\n",
    "         ]\n",
    "\n",
    "plot_nov_pred_nonformatted(nlist_t,cols,alphs,ls,sseq1,ax[2],tl,s,lw,lines=lines,dashes=dashes,ref_norm=ref_norm,legend=True)\n",
    "plot_nov_pred_nonformatted(nlist_g,cols,alphs,ls,sseq1,ax[3],tl,s,lw,lines=lines,dashes=dashes,ref_norm=ref_norm,legend=False)\n",
    "\n",
    "# Format & save\n",
    "for i in range(len(ax)):\n",
    "       ax[i].set_ylim([0.5,1.4])\n",
    "ax[0].set_title('Counts (small bins)',fontsize=tl)\n",
    "ax[1].set_title('Counts (large bins)',fontsize=tl)\n",
    "ax[2].set_title('Triangle kernels',fontsize=tl)\n",
    "ax[3].set_title('Gaussian kernels',fontsize=tl)\n",
    "ax[0].set_ylabel('Novelty prediction',fontsize=tl)\n",
    "ax[2].set_ylabel('Novelty prediction',fontsize=tl)\n",
    "\n",
    "path_save = '/Users/sbecker/Projects/RL_reward_novelty/output/Figures_Paper/Fig_theory_kernels/v11'\n",
    "name_save = f'pred_state-all-panels'\n",
    "sl.make_long_dir(path_save)\n",
    "plt.savefig(os.path.join(path_save,f'{name_save}.svg'),transparent=True,bbox_inches='tight')\n"
   ]
  },
  {
   "cell_type": "code",
   "execution_count": 17,
   "metadata": {},
   "outputs": [],
   "source": [
    "ref_norm = nlist_cl[0][0]\n",
    "\n",
    "ctA = np.array([0,1,2,2,3])\n",
    "ctB = np.array([0,0,0,1,1])\n",
    "t  = np.arange(len(ctA))\n",
    "ntA = -np.log((eps+ctA)/(t+cnum_l*eps))\n",
    "ntB = -np.log((eps+ctB)/(t+cnum_l*eps))\n",
    "\n",
    "yt = [int(i) for i in np.arange(3)]"
   ]
  },
  {
   "cell_type": "code",
   "execution_count": 20,
   "metadata": {},
   "outputs": [
    {
     "data": {
      "image/png": "[encoded data removed]",
      "text/plain": [
       "<Figure size 172.8x144 with 1 Axes>"
      ]
     },
     "metadata": {
      "needs_background": "light"
     },
     "output_type": "display_data"
    },
    {
     "data": {
      "image/png": "[encoded data removed]",
      "text/plain": [
       "<Figure size 172.8x144 with 1 Axes>"
      ]
     },
     "metadata": {
      "needs_background": "light"
     },
     "output_type": "display_data"
    }
   ],
   "source": [
    "f,ax = plt.subplots(1,1,figsize=(2.4,2))\n",
    "ax = [ax]\n",
    "cc = ['k','grey']\n",
    "ax[0].plot(t,ctA,'o',color=cc[0],label='$45\\degree$')\n",
    "ax[0].step(t,ctA,where='post',color=cc[0],ls='--')\n",
    "ax[0].plot(t,ctB,'o',color=cc[1],label='$135\\degree$')\n",
    "ax[0].step(t,ctB,where='post',color=cc[1],ls='--')\n",
    "ax[0].set_xlabel('Time steps $t$',fontsize='11')\n",
    "ax[0].set_xticks(t)\n",
    "ax[0].set_ylabel('Counts',fontsize='11')\n",
    "yt = [int(i) for i in np.arange(ax[0].get_ylim()[1])]\n",
    "ax[0].set_yticks(yt)\n",
    "ax[0].tick_params(axis='both',which='major',labelsize=11)\n",
    "ax[0].spines['top'].set_visible(False)\n",
    "ax[0].spines['right'].set_visible(False)\n",
    "f.legend(loc='upper left',ncol=2,bbox_to_anchor=(0.18,1),frameon=False,fontsize=11,handletextpad=0.1,columnspacing=0.3)\n",
    "f.tight_layout()\n",
    "path_save = '/Users/sbecker/Projects/RL_reward_novelty/output/Figures_Paper/Fig_theory_kernels/v11'\n",
    "plt.savefig(os.path.join(path_save,'count_based_counts.svg'))\n",
    "plt.savefig(os.path.join(path_save,'count_based_counts.eps'))\n",
    "\n",
    "f,ax = plt.subplots(1,1,figsize=(2.4,2))\n",
    "ax = [None, ax]\n",
    "ax[1].plot(t,ntA-ref_norm,'o',color=cc[0],label='$N_t(A)$')\n",
    "ax[1].step(t,ntA-ref_norm,where='post',color=cc[0],ls='--')\n",
    "ax[1].plot(t,ntB-ref_norm,'o',color=cc[1],label='$N_t(B)$')\n",
    "ax[1].step(t,ntB-ref_norm,where='post',color=cc[1],ls='--')\n",
    "ax[1].set_xlabel('Time steps $t$',fontsize='11')\n",
    "ax[1].set_xticks(t)\n",
    "ax[1].set_ylabel('Novelty',fontsize='11')\n",
    "ax[1].set_yticks([])\n",
    "ax[1].tick_params(axis='both',which='major',labelsize=11)\n",
    "ax[1].spines['top'].set_visible(False)\n",
    "ax[1].spines['right'].set_visible(False)\n",
    "ax[1].set_ylim([-0.2,1])\n",
    "\n",
    "f.tight_layout()\n",
    "path_save = '/Users/sbecker/Projects/RL_reward_novelty/output/Figures_Paper/Fig_theory_kernels/v11'\n",
    "plt.savefig(os.path.join(path_save,'count_based_nov.svg'))\n",
    "plt.savefig(os.path.join(path_save,'count_based_nov.eps'))"
   ]
  },
  {
   "cell_type": "code",
   "execution_count": 26,
   "metadata": {},
   "outputs": [
    {
     "name": "stdout",
     "output_type": "stream",
     "text": [
      "9\n",
      "(0.5706886882873199, 1.29530516758666)\n",
      "(0.6902262899342673, 1.3762423174412104)\n"
     ]
    },
    {
     "data": {
      "image/png": "[encoded data removed]",
      "text/plain": [
       "<Figure size 172.8x144 with 1 Axes>"
      ]
     },
     "metadata": {
      "needs_background": "light"
     },
     "output_type": "display_data"
    },
    {
     "data": {
      "image/png": "[encoded data removed]",
      "text/plain": [
       "<Figure size 172.8x144 with 1 Axes>"
      ]
     },
     "metadata": {
      "needs_background": "light"
     },
     "output_type": "display_data"
    }
   ],
   "source": [
    "# Init figure\n",
    "\n",
    "# f,ax = plt.subplots(1,2,figsize=(4.8,1.8),sharey=True)\n",
    "\n",
    "# Count-based panels\n",
    "col_all = prep_cmap('plasma',8)\n",
    "print(len(col_all))\n",
    "cols = [col_all[3],\n",
    "        col_all[5],\n",
    "        col_all[7]\n",
    "        ]\n",
    "alphs = [1]*len(cols)\n",
    "lines =[':']*len(cols)\n",
    "dashes = [(3,1,3,1),(2,2,2,2),(1,3,1,3)]\n",
    "\n",
    "nlist_cs = [nt_cs_seq1,         \n",
    "          nt_cs_seq2,\n",
    "          nt_cs_seq3\n",
    "         ]\n",
    "ls     = ['Seq. 1',\n",
    "          'Seq. 2',\n",
    "          'Seq. 3'\n",
    "         ]\n",
    "nlist_cl = [nt_cl_seq1,         \n",
    "          nt_cl_seq2,\n",
    "          nt_cl_seq3\n",
    "         ]\n",
    "\n",
    "ref_norm = 1\n",
    "\n",
    "path_save = '/Users/sbecker/Projects/RL_reward_novelty/output/Figures_Paper/Fig_theory_kernels/v11'\n",
    "name_save = f'pred_state-cnov'\n",
    "sl.make_long_dir(path_save)\n",
    "\n",
    "f,ax = plt.subplots(1,1,figsize=(2.4,2))\n",
    "ax = [ax]\n",
    "lh, ls = plot_nov_pred_nonformatted(nlist_cs,cols,alphs,ls,sseq1,ax[0],tl,s,lw,lines=lines,dashes=dashes,ref_norm=ref_norm,legend=False)\n",
    "# ax[0].legend(lh,ls,fontsize=10,loc='upper left',frameon=False,bbox_to_anchor=(-0.05,1.25),ncol=2,handletextpad=0.1,columnspacing=0.3)\n",
    "ax[0].set_ylim([0.5,1.3])\n",
    "ax[0].set_ylabel('Novelty signal $N_t(s_t)$',fontsize=tl)\n",
    "f.tight_layout()\n",
    "plt.savefig(os.path.join(path_save,f'{name_save}-1.svg'),transparent=True)\n",
    "\n",
    "f,ax = plt.subplots(1,1,figsize=(2.4,2))\n",
    "ax = [ax]\n",
    "lh, ls = plot_nov_pred_nonformatted(nlist_cl,cols,alphs,ls,sseq1,ax[0],tl,s,lw,lines=lines,dashes=dashes,ref_norm=ref_norm,legend=False)\n",
    "ax[0].set_ylim([0.5,1.3])\n",
    "ax[0].set_ylabel('Novelty signal $N_t(s_t)$',fontsize=tl)\n",
    "f.tight_layout()\n",
    "plt.savefig(os.path.join(path_save,f'{name_save}-2.svg'),transparent=True)\n",
    "\n",
    "# f.legend(lh,ls,fontsize=11,loc='upper center',frameon=False,bbox_to_anchor=(0.5, 1.1),ncol=3,handletextpad=0.1,columnspacing=0.3)\n",
    "\n",
    "# Kernel-based panels\n",
    "# alphs = [1]*len(cols)\n",
    "# lines = [':']*len(cols) \n",
    "# dashes = [(3,1,3,1),(2,2,2,2),(1,3,1,3)]\n",
    "\n",
    "# nlist_t = [nt_tk_seq1,\n",
    "#          nt_tk_seq2,\n",
    "#          nt_tk_seq3\n",
    "#          ]\n",
    "# nlist_g = [nt_gk_seq1,\n",
    "#          nt_gk_seq2,\n",
    "#          nt_gk_seq3\n",
    "#          ]\n",
    "# ls    = ['Seq. 1',\n",
    "#          'Seq. 2',\n",
    "#          'Seq. 3'\n",
    "#          ]\n",
    "\n",
    "# plot_nov_pred_nonformatted(nlist_t,cols,alphs,ls,sseq1,ax[2],tl,s,lw,lines=lines,dashes=dashes,ref_norm=ref_norm,legend=True)\n",
    "# plot_nov_pred_nonformatted(nlist_g,cols,alphs,ls,sseq1,ax[3],tl,s,lw,lines=lines,dashes=dashes,ref_norm=ref_norm,legend=False)\n",
    "\n",
    "# Format & save\n",
    "# for i in range(len(ax)):\n",
    "#        ax[i].set_ylim([0.5,1.3])\n",
    "# ax[0].set_title('Counts (small bins)',fontsize=tl)\n",
    "# ax[1].set_title('Counts (large bins)',fontsize=tl)\n",
    "# ax[2].set_title('Triangle kernels',fontsize=tl)\n",
    "# ax[3].set_title('Gaussian kernels',fontsize=tl)\n",
    "# ax[0].set_ylabel('Novelty signal $N_t(s_t)$',fontsize=tl)\n",
    "# ax[1].set_ylabel('Novelty signal $N_t(s_t)$',fontsize=tl)\n",
    "# ax[0].set_yticks([1])\n",
    "# ax[0].set_yticklabels(['0'])\n",
    "# ax[2].set_ylabel('Novelty prediction',fontsize=tl)\n",
    "# f.tight_layout()\n",
    "\n",
    "# path_save = '/Users/sbecker/Projects/RL_reward_novelty/output/Figures_Paper/Fig_theory_kernels/v11'\n",
    "# name_save = f'pred_state-cnov'\n",
    "# sl.make_long_dir(path_save)\n",
    "# plt.savefig(os.path.join(path_save,f'{name_save}.svg'),transparent=True,bbox_inches='tight')\n"
   ]
  },
  {
   "cell_type": "code",
   "execution_count": 28,
   "metadata": {},
   "outputs": [
    {
     "name": "stdout",
     "output_type": "stream",
     "text": [
      "9\n",
      "(0.6709965637381002, 1.3906758713738838)\n"
     ]
    },
    {
     "data": {
      "image/png": "[encoded data removed]",
      "text/plain": [
       "<Figure size 172.8x144 with 1 Axes>"
      ]
     },
     "metadata": {
      "needs_background": "light"
     },
     "output_type": "display_data"
    }
   ],
   "source": [
    "# Init figure\n",
    "\n",
    "f,ax = plt.subplots(1,1,figsize=(2.4,2))\n",
    "ax = [ax]\n",
    "\n",
    "# Count-based panels\n",
    "col_all = prep_cmap('plasma',8)\n",
    "print(len(col_all))\n",
    "cols = [col_all[3],\n",
    "        col_all[5],\n",
    "        col_all[7]\n",
    "        ]\n",
    "\n",
    "ref_norm = 1\n",
    "\n",
    "# Kernel-based panels\n",
    "alphs = [1]*len(cols)\n",
    "lines = [':']*len(cols) \n",
    "dashes = [(3,1,3,1),(2,2,2,2),(1,3,1,3)]\n",
    "\n",
    "nlist_t = [nt_tk_seq1,\n",
    "         nt_tk_seq2,\n",
    "         nt_tk_seq3\n",
    "         ]\n",
    "nlist_g = [nt_gk_seq1,\n",
    "         nt_gk_seq2,\n",
    "         nt_gk_seq3\n",
    "         ]\n",
    "ls    = ['Seq. 1',\n",
    "         'Seq. 2',\n",
    "         'Seq. 3'\n",
    "         ]\n",
    "\n",
    "# plot_nov_pred_nonformatted(nlist_t,cols,alphs,ls,sseq1,ax[0],tl,s,lw,lines=lines,dashes=dashes,ref_norm=ref_norm,legend=False)\n",
    "lh, ls = plot_nov_pred_nonformatted(nlist_t,cols,alphs,ls,sseq1,ax[0],tl,s,lw,lines=lines,dashes=dashes,ref_norm=ref_norm,legend=False)\n",
    "# f.legend(lh,ls,fontsize=11,loc='upper center',frameon=False,bbox_to_anchor=(0.5, 1.1),ncol=3,handletextpad=0.1,columnspacing=0.3)\n",
    "\n",
    "# Format & save\n",
    "for i in range(len(ax)):\n",
    "       ax[i].set_ylim([0.6,1.2])\n",
    "# ax[0].set_title('Counts (small bins)',fontsize=tl)\n",
    "# ax[1].set_title('Counts (large bins)',fontsize=tl)\n",
    "# ax[2].set_title('Triangle kernels',fontsize=tl)\n",
    "# ax[3].set_title('Gaussian kernels',fontsize=tl)\n",
    "ax[0].set_ylabel('Novelty signal $N_t(s_t)$',fontsize=tl)\n",
    "# ax[1].set_ylabel('Novelty signal $N_t(s_t)$',fontsize=tl)\n",
    "# ax[0].set_yticks([1])\n",
    "# ax[0].set_yticklabels(['0'])\n",
    "# ax[2].set_ylabel('Novelty prediction',fontsize=tl)\n",
    "# f.tight_layout()\n",
    "f.tight_layout()\n",
    "path_save = '/Users/sbecker/Projects/RL_reward_novelty/output/Figures_Paper/Fig_theory_kernels/v11'\n",
    "name_save = f'pred_state-snov'\n",
    "sl.make_long_dir(path_save)\n",
    "plt.savefig(os.path.join(path_save,f'{name_save}.svg'),transparent=True) #,bbox_inches='tight')"
   ]
  },
  {
   "cell_type": "code",
   "execution_count": null,
   "metadata": {},
   "outputs": [],
   "source": []
  }
 ],
 "metadata": {
  "kernelspec": {
   "display_name": "rlnet",
   "language": "python",
   "name": "python3"
  },
  "language_info": {
   "codemirror_mode": {
    "name": "ipython",
    "version": 3
   },
   "file_extension": ".py",
   "mimetype": "text/x-python",
   "name": "python",
   "nbconvert_exporter": "python",
   "pygments_lexer": "ipython3",
   "version": "3.9.4"
  }
 },
 "nbformat": 4,
 "nbformat_minor": 2
}
