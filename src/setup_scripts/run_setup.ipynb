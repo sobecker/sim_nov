{
 "cells": [
  {
   "cell_type": "code",
   "execution_count": null,
   "metadata": {},
   "outputs": [],
   "source": [
    "### Run once before using this repo to install all packages from the repo. ###\n",
    "\n",
    "from pathlib import Path\n",
    "import os\n",
    "\n",
    "path = Path('/Users/sbecker/Projects/sim_nov/src')\n",
    "path = path.resolve()  \n",
    "os.chdir(path)\n",
    "\n",
    "%pip install -e ."
   ]
  }
 ],
 "metadata": {
  "kernelspec": {
   "display_name": "rlnet",
   "language": "python",
   "name": "python3"
  },
  "language_info": {
   "name": "python",
   "version": "3.9.4"
  }
 },
 "nbformat": 4,
 "nbformat_minor": 2
}
