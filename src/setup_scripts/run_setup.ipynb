{
 "cells": [
  {
   "cell_type": "code",
   "execution_count": null,
   "metadata": {},
   "outputs": [],
   "source": [
    "### Run once before using this repo to install all packages from the repo. ###\n",
    "\n",
    "from pathlib import Path\n",
    "import os\n",
    "\n",
    "path = Path('/Users/sbecker/Projects/sim_nov/src')\n",
    "path = path.resolve()  \n",
    "os.chdir(path)\n",
    "\n",
    "%pip install -e ."
   ]
  }
 ],
 "metadata": {
  "kernelspec": {
   "display_name": "rlnet",
   "language": "python",
   "name": "python3"
  },
  "language_info": {
   "codemirror_mode": {
    "name": "ipython",
    "version": 3
   },
   "file_extension": ".py",
   "mimetype": "text/x-python",
   "name": "python",
   "nbconvert_exporter": "python",
   "pygments_lexer": "ipython3",
   "version": "3.9.4"
  }
 },
 "nbformat": 4,
 "nbformat_minor": 2
}
